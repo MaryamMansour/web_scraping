{
 "cells": [
  {
   "cell_type": "code",
   "execution_count": 1,
   "id": "2c27eb4b",
   "metadata": {
    "_cell_guid": "b1076dfc-b9ad-4769-8c92-a6c4dae69d19",
    "_uuid": "8f2839f25d086af736a60e9eeb907d3b93b6e0e5",
    "execution": {
     "iopub.execute_input": "2024-06-19T02:16:06.132452Z",
     "iopub.status.busy": "2024-06-19T02:16:06.132031Z",
     "iopub.status.idle": "2024-06-19T02:16:06.411185Z",
     "shell.execute_reply": "2024-06-19T02:16:06.410049Z"
    },
    "papermill": {
     "duration": 0.287212,
     "end_time": "2024-06-19T02:16:06.413587",
     "exception": false,
     "start_time": "2024-06-19T02:16:06.126375",
     "status": "completed"
    },
    "tags": []
   },
   "outputs": [
    {
     "name": "stdout",
     "output_type": "stream",
     "text": [
      "HI\n"
     ]
    }
   ],
   "source": [
    "import requests\n",
    "from bs4 import BeautifulSoup\n",
    "import csv\n",
    "\n",
    "print(\"HI\")"
   ]
  },
  {
   "cell_type": "code",
   "execution_count": 2,
   "id": "d50c0796",
   "metadata": {
    "execution": {
     "iopub.execute_input": "2024-06-19T02:16:06.423081Z",
     "iopub.status.busy": "2024-06-19T02:16:06.422548Z",
     "iopub.status.idle": "2024-06-19T02:16:06.867248Z",
     "shell.execute_reply": "2024-06-19T02:16:06.866146Z"
    },
    "papermill": {
     "duration": 0.452646,
     "end_time": "2024-06-19T02:16:06.870226",
     "exception": false,
     "start_time": "2024-06-19T02:16:06.417580",
     "status": "completed"
    },
    "tags": []
   },
   "outputs": [],
   "source": [
    " url = 'https://bestpitchdeck.com/tomorrow-health'\n",
    " response = requests.get(url)\n",
    " page = response.content\n",
    " soup = BeautifulSoup(page,'lxml')"
   ]
  },
  {
   "cell_type": "code",
   "execution_count": 3,
   "id": "a8f10644",
   "metadata": {
    "execution": {
     "iopub.execute_input": "2024-06-19T02:16:06.880408Z",
     "iopub.status.busy": "2024-06-19T02:16:06.879399Z",
     "iopub.status.idle": "2024-06-19T02:16:06.886700Z",
     "shell.execute_reply": "2024-06-19T02:16:06.885549Z"
    },
    "papermill": {
     "duration": 0.015365,
     "end_time": "2024-06-19T02:16:06.889471",
     "exception": false,
     "start_time": "2024-06-19T02:16:06.874106",
     "status": "completed"
    },
    "tags": []
   },
   "outputs": [
    {
     "name": "stdout",
     "output_type": "stream",
     "text": [
      "1-------  <div class=\"mt-3\">\n",
      "<h1 class=\"text-primary\">Tomorrow Health Pitch Deck</h1>\n",
      "<p class=\"text-muted mb-2\">Tomorrow Health is a technology-driven home healthcare company that focuses on the way home-based care is ordered, delivered, and paid for. The company was founded by Vijay Kedar in 2020.  Tomorrow Health is working with more than 125 health plans and hospital systems in 29 states; a recent contract will see the company deliver home medical equipment and supplies to Geisinger Health Plan’s more than 500,000 customers.<br/>Tomorrow Health announced it had raised a $60 million Series B funding round led by Bond, with participation from Andreessen Horowitz, Obvious Ventures, BoxGroup, and Sound Ventures. Andreessen Horowitz also led the company's $25 million Series A round. The startup has raised $92.5 million since its founding in 2017.</p>\n",
      "<p class=\"lead text-muted mb-2\">2022 • Series B  <i class=\"fa fa-hand-holding-usd\"></i></p>\n",
      "</div>\n",
      "2--------  \n",
      "\n"
     ]
    }
   ],
   "source": [
    "pitchs = soup.find(\"div\", {'class': 'col-11 col-lg-5'})\n",
    "\n",
    "def get_card_info(pitchs):\n",
    "    discription = pitchs.contents[0]\n",
    "\n",
    " \n",
    "    print('1------- ',pitchs.contents[1])\n",
    "    print(\"2-------- \",pitchs.contents[2])\n",
    "get_card_info(pitchs)    "
   ]
  },
  {
   "cell_type": "code",
   "execution_count": 4,
   "id": "712ccb2c",
   "metadata": {
    "execution": {
     "iopub.execute_input": "2024-06-19T02:16:06.899477Z",
     "iopub.status.busy": "2024-06-19T02:16:06.898985Z",
     "iopub.status.idle": "2024-06-19T02:26:55.592484Z",
     "shell.execute_reply": "2024-06-19T02:26:55.591281Z"
    },
    "papermill": {
     "duration": 648.705587,
     "end_time": "2024-06-19T02:26:55.598913",
     "exception": false,
     "start_time": "2024-06-19T02:16:06.893326",
     "status": "completed"
    },
    "tags": []
   },
   "outputs": [
    {
     "name": "stdout",
     "output_type": "stream",
     "text": [
      "Data has been saved to pitch_decks.csv\n"
     ]
    }
   ],
   "source": [
    "import requests\n",
    "from bs4 import BeautifulSoup\n",
    "import csv\n",
    "\n",
    "def scrape_data():\n",
    "    base_url = 'https://bestpitchdeck.com'\n",
    "    response = requests.get(base_url)\n",
    "    soup = BeautifulSoup(response.text, 'html.parser')\n",
    "    \n",
    "    decks = []\n",
    "    pitchs = soup.find_all(\"div\", {'class': 'card'})\n",
    "    \n",
    "    for pitch in pitchs:\n",
    "        card_body = pitch.find('div', class_='card-body')\n",
    "        card_footer = pitch.find('div', class_='card-footer')\n",
    "        \n",
    "        if not card_body or not card_footer:\n",
    "            continue\n",
    "        \n",
    "        title_tag = card_body.find('h5')\n",
    "        company_name = title_tag.text.strip() if title_tag else ''\n",
    "        \n",
    "        description_tag = card_body.find('p', class_='card-text')\n",
    "        description = description_tag.text.strip() if description_tag else ''\n",
    "        \n",
    "        details_tag = card_body.find('small', class_='text-semi-op')\n",
    "        details = details_tag.text.strip().split('•') if details_tag else []\n",
    "        \n",
    "        amount_raised = details[0].strip() if len(details) > 0 else ''\n",
    "        year = details[1].strip() if len(details) > 1 else ''\n",
    "        stage = details[2].strip() if len(details) > 2 else ''\n",
    "        \n",
    "        business_type = ''\n",
    "        footer_tag = card_footer.find('strong', class_='text-semi-op')\n",
    "        if footer_tag and 'Business:' in footer_tag.text:\n",
    "            business_type = footer_tag.next_sibling.strip() if footer_tag.next_sibling else ''\n",
    "        \n",
    "        img_tag = title_tag.find('img') if title_tag else None\n",
    "        img_url = img_tag['src'] if img_tag else ''\n",
    "        \n",
    "        view_deck_tag = card_body.find('a', href=True)\n",
    "        detail_url = base_url + view_deck_tag['href'] if view_deck_tag else ''\n",
    "        \n",
    "        # Scrape additional information from the detail page\n",
    "        additional_info = scrape_detail_page(detail_url)\n",
    "        \n",
    "        decks.append([company_name, description, amount_raised, year, stage, business_type, img_url, detail_url] + additional_info)\n",
    "    \n",
    "    return decks\n",
    "\n",
    "def scrape_detail_page(url):\n",
    "    if not url:\n",
    "        return [''] * 13  # Adjust the number of empty strings based on the number of additional fields you want to scrape\n",
    "    \n",
    "    response = requests.get(url)\n",
    "    soup = BeautifulSoup(response.text, 'html.parser')\n",
    "    \n",
    "    # Scrape additional details\n",
    "    full_description = get_text(soup.select_one('.col-11.col-lg-5 .text-muted.mb-2'))\n",
    "    pdf_url = soup.select_one('iframe')['src'] if soup.select_one('iframe') else ''\n",
    "    \n",
    "    about_section = soup.find('div', class_='row py-5')\n",
    "    raised_funds = get_text_from_li(about_section, 'li:nth-child(1)')\n",
    "    year = get_text_from_li(about_section, 'li:nth-child(2)')\n",
    "    stage = get_text_from_li(about_section, 'li:nth-child(3)')\n",
    "    investors = get_text_from_li(about_section, 'li:nth-child(4)')\n",
    "    \n",
    "    about_company_section = about_section.find_all('div', class_='col-12 col-md-6') if about_section else []\n",
    "    about_company_info = about_company_section[1] if len(about_company_section) > 1 else None\n",
    "    about = get_text(about_company_info.find('p', class_='text-muted mb-2') if about_company_info else None)\n",
    "    industry = get_text_from_li(about_company_info, 'li:nth-child(1)')\n",
    "    tags = get_text_from_li(about_company_info, 'li:nth-child(2)')\n",
    "    business_model = get_text_from_li(about_company_info, 'li:nth-child(3)')\n",
    "    customer_model = get_text_from_li(about_company_info, 'li:nth-child(4)')\n",
    "    website = get_text_from_li(about_company_info, 'li:nth-child(5)')\n",
    "    legal_name = get_text_from_li(about_company_info, 'li:nth-child(6)')\n",
    "    \n",
    "    return [\n",
    "        full_description, year, stage, pdf_url, investors, raised_funds,\n",
    "        about, industry, tags, business_model, customer_model, website, legal_name\n",
    "    ]\n",
    "\n",
    "def get_text(element):\n",
    "    return element.text.strip() if element else ''\n",
    "\n",
    "def get_text_from_li(section, selector):\n",
    "    element = section.select_one(selector) if section else None\n",
    "    return element.text.split(':')[1].strip() if element and ':' in element.text else ''\n",
    "\n",
    "def save_to_csv(decks, filename='pitch_decks.csv'):\n",
    "    header = [\n",
    "        'Company Name', 'Description', 'Amount Raised (Main)', 'Year (Main)', 'Stage (Main)', 'Business Type',\n",
    "        'Image URL', 'Detail URL', 'Full Description', 'Year', 'Stage', 'PDF URL', 'Investors', 'Raised Funds',\n",
    "        'About', 'Industry', 'Tags', 'Business Model', 'Customer Model', 'Website', 'Legal Name'\n",
    "    ]\n",
    "    \n",
    "    with open(filename, 'w', newline='', encoding='utf-8') as file:\n",
    "        writer = csv.writer(file)\n",
    "        writer.writerow(header)\n",
    "        writer.writerows(decks)\n",
    "\n",
    "decks = scrape_data()\n",
    "save_to_csv(decks)\n",
    "print(\"Data has been saved to pitch_decks.csv\")\n"
   ]
  },
  {
   "cell_type": "code",
   "execution_count": 5,
   "id": "83ebf462",
   "metadata": {
    "execution": {
     "iopub.execute_input": "2024-06-19T02:26:55.608944Z",
     "iopub.status.busy": "2024-06-19T02:26:55.608569Z",
     "iopub.status.idle": "2024-06-19T02:26:56.684661Z",
     "shell.execute_reply": "2024-06-19T02:26:56.683579Z"
    },
    "papermill": {
     "duration": 1.084211,
     "end_time": "2024-06-19T02:26:56.687095",
     "exception": false,
     "start_time": "2024-06-19T02:26:55.602884",
     "status": "completed"
    },
    "tags": []
   },
   "outputs": [
    {
     "name": "stdout",
     "output_type": "stream",
     "text": [
      "Index(['Company Name', 'Description', 'Amount Raised (Main)', 'Year (Main)',\n",
      "       'Stage (Main)', 'Business Type', 'Image URL', 'Detail URL',\n",
      "       'Full Description', 'Year', 'Stage', 'PDF URL', 'Investors',\n",
      "       'Raised Funds', 'About', 'Industry', 'Tags', 'Business Model',\n",
      "       'Customer Model', 'Website', 'Legal Name'],\n",
      "      dtype='object')\n"
     ]
    }
   ],
   "source": [
    "import pandas\n",
    "df = pandas.read_csv('/kaggle/working/pitch_decks.csv')\n",
    "print(df.columns)\n"
   ]
  },
  {
   "cell_type": "code",
   "execution_count": 6,
   "id": "25694d85",
   "metadata": {
    "execution": {
     "iopub.execute_input": "2024-06-19T02:26:56.696586Z",
     "iopub.status.busy": "2024-06-19T02:26:56.696169Z",
     "iopub.status.idle": "2024-06-19T02:26:56.731844Z",
     "shell.execute_reply": "2024-06-19T02:26:56.730719Z"
    },
    "papermill": {
     "duration": 0.043535,
     "end_time": "2024-06-19T02:26:56.734555",
     "exception": false,
     "start_time": "2024-06-19T02:26:56.691020",
     "status": "completed"
    },
    "tags": []
   },
   "outputs": [
    {
     "name": "stdout",
     "output_type": "stream",
     "text": [
      "<class 'pandas.core.frame.DataFrame'>\n",
      "RangeIndex: 1485 entries, 0 to 1484\n",
      "Data columns (total 21 columns):\n",
      " #   Column                Non-Null Count  Dtype \n",
      "---  ------                --------------  ----- \n",
      " 0   Company Name          1485 non-null   object\n",
      " 1   Description           1475 non-null   object\n",
      " 2   Amount Raised (Main)  1443 non-null   object\n",
      " 3   Year (Main)           1472 non-null   object\n",
      " 4   Stage (Main)          1451 non-null   object\n",
      " 5   Business Type         1447 non-null   object\n",
      " 6   Image URL             1307 non-null   object\n",
      " 7   Detail URL            1485 non-null   object\n",
      " 8   Full Description      1361 non-null   object\n",
      " 9   Year                  1468 non-null   object\n",
      " 10  Stage                 1452 non-null   object\n",
      " 11  PDF URL               1475 non-null   object\n",
      " 12  Investors             550 non-null    object\n",
      " 13  Raised Funds          1441 non-null   object\n",
      " 14  About                 1464 non-null   object\n",
      " 15  Industry              1478 non-null   object\n",
      " 16  Tags                  1478 non-null   object\n",
      " 17  Business Model        881 non-null    object\n",
      " 18  Customer Model        868 non-null    object\n",
      " 19  Website               1437 non-null   object\n",
      " 20  Legal Name            1466 non-null   object\n",
      "dtypes: object(21)\n",
      "memory usage: 243.8+ KB\n",
      "None\n"
     ]
    }
   ],
   "source": [
    "print(df.info())\n"
   ]
  },
  {
   "cell_type": "code",
   "execution_count": 7,
   "id": "548a258f",
   "metadata": {
    "execution": {
     "iopub.execute_input": "2024-06-19T02:26:56.744442Z",
     "iopub.status.busy": "2024-06-19T02:26:56.744078Z",
     "iopub.status.idle": "2024-06-19T02:26:56.767817Z",
     "shell.execute_reply": "2024-06-19T02:26:56.766705Z"
    },
    "papermill": {
     "duration": 0.032442,
     "end_time": "2024-06-19T02:26:56.771212",
     "exception": false,
     "start_time": "2024-06-19T02:26:56.738770",
     "status": "completed"
    },
    "tags": []
   },
   "outputs": [
    {
     "name": "stdout",
     "output_type": "stream",
     "text": [
      "  Company Name Description Amount Raised (Main) Year (Main) Stage (Main)  \\\n",
      "0      Mistral         NaN                €105M        2023         Seed   \n",
      "1      Shopify         NaN                 $66M        2016   Late Stage   \n",
      "2        Tesla         NaN                $192M        2017   Late Stage   \n",
      "3       WeWork         NaN                $335M        2014   Late Stage   \n",
      "4       Airbnb         NaN                $600K        2008         Seed   \n",
      "\n",
      "  Business Type                              Image URL  \\\n",
      "0           B2C                 /img/logos/mistral.png   \n",
      "1           B2B  https://logo.clearbit.com/shopify.com   \n",
      "2           B2C                   /img/logos/tesla.png   \n",
      "3           B2B                  /img/logos/wework.jpg   \n",
      "4      B2C, B2B                  /img/logos/airbnb.png   \n",
      "\n",
      "                          Detail URL  \\\n",
      "0  https://bestpitchdeck.com/mistral   \n",
      "1  https://bestpitchdeck.com/shopify   \n",
      "2    https://bestpitchdeck.com/tesla   \n",
      "3   https://bestpitchdeck.com/wework   \n",
      "4   https://bestpitchdeck.com/airbnb   \n",
      "\n",
      "                                    Full Description  Year  ...  \\\n",
      "0  Eyebrows were raised after Paris-based AI star...  2023  ...   \n",
      "1  Shopify Inc., a commerce company, provides a c...  2016  ...   \n",
      "2  Tesla, Inc. designs, develops, manufactures, l...  2011  ...   \n",
      "3  WeWork Companies Inc. operates as a real estat...  2014  ...   \n",
      "4  Airbnb, Inc., together with its subsidiaries, ...  2008  ...   \n",
      "\n",
      "                                             PDF URL  \\\n",
      "0  https://drive.google.com/file/d/1yxU5NpR1DWEYh...   \n",
      "1  https://www.slideshare.net/slideshow/embed_cod...   \n",
      "2  https://www.slideshare.net/slideshow/embed_cod...   \n",
      "3  https://www.slideshare.net/slideshow/embed_cod...   \n",
      "4  https://www.slideshare.net/slideshow/embed_cod...   \n",
      "\n",
      "                                           Investors Raised Funds  \\\n",
      "0  VC + Angels â Lightspeed, Xavier Niel, Eric ...      â¬105M   \n",
      "1                                      VC, Corporate         $66M   \n",
      "2                                          Corporate        $192M   \n",
      "3                                          Corporate        $335M   \n",
      "4                                                NaN        $600k   \n",
      "\n",
      "                                               About         Industry  \\\n",
      "0  Mistral AI is assembling a world-class team to...               AI   \n",
      "1  Shopify is a powerful, reliable, and scalable ...           Retail   \n",
      "2  Tesla Motors specializes in developing a full ...   Transportation   \n",
      "3  WeWork is a commercial real estate company tha...         Proptech   \n",
      "4  Airbnb is one of the world's largest marketpla...  Travel & Events   \n",
      "\n",
      "                                                Tags    Business Model  \\\n",
      "0  Big Data, Analytics, Data, SaaS, Software, AI,...              SaaS   \n",
      "1                                   Retail, Software              SaaS   \n",
      "2  Transportation, Energy, CleanTech, IoT, Manufa...        E-commerce   \n",
      "3               Proptech, Collaboration, Real Estate       Marketplace   \n",
      "4                                    Travel & Events  SaaS, E-commerce   \n",
      "\n",
      "  Customer Model      Website Legal Name  \n",
      "0            B2B   mistral.ai    Mistral  \n",
      "1            B2B  shopify.com    Shopify  \n",
      "2            B2C    tesla.com      Tesla  \n",
      "3            B2B   wework.com     WeWork  \n",
      "4            NaN   airbnb.com     AirBnB  \n",
      "\n",
      "[5 rows x 21 columns]\n",
      "     Company Name                                        Description  \\\n",
      "1480       WeTipp  WeTipp is the online platform that connects th...   \n",
      "1481     Whiplash  They Store and Ship Your Products on Demand Wh...   \n",
      "1482  Work Genius  Engaging people working in distributed workpla...   \n",
      "1483     Zootrock  ZootRock generates automated curated content t...   \n",
      "1484        Enron  In 1999, Enron tried to launch an IP based net...   \n",
      "\n",
      "     Amount Raised (Main) Year (Main) Stage (Main) Business Type  \\\n",
      "1480                $150K        2017     Pre-Seed           B2B   \n",
      "1481          Undisclosed        2016         Seed           B2C   \n",
      "1482                  $4M        2017         Seed           B2B   \n",
      "1483                $110K        2014         Seed           B2B   \n",
      "1484                   --        1999        Sales           B2B   \n",
      "\n",
      "                                     Image URL  \\\n",
      "1480  https://logo.clearbit.com/www.wetipp.com   \n",
      "1481                                       NaN   \n",
      "1482                                       NaN   \n",
      "1483                                       NaN   \n",
      "1484                https://logo.clearbit.com/   \n",
      "\n",
      "                                 Detail URL  \\\n",
      "1480       https://bestpitchdeck.com/wetipp   \n",
      "1481     https://bestpitchdeck.com/whiplash   \n",
      "1482  https://bestpitchdeck.com/work-genius   \n",
      "1483     https://bestpitchdeck.com/zootrock   \n",
      "1484        https://bestpitchdeck.com/enron   \n",
      "\n",
      "                                       Full Description  Year  ...  \\\n",
      "1480                                         Wetipp Ltd  2017  ...   \n",
      "1481                         Whiplash Merchandising Inc  2016  ...   \n",
      "1482                                                NaN  2017  ...   \n",
      "1483                                                NaN  2014  ...   \n",
      "1484  In 1999, Enron tried to launch an IP based net...  1999  ...   \n",
      "\n",
      "                                                PDF URL Investors  \\\n",
      "1480  https://www.slideshare.net/slideshow/embed_cod...       NaN   \n",
      "1481  https://www.slideshare.net/slideshow/embed_cod...       NaN   \n",
      "1482  https://www.slideshare.net/slideshow/embed_cod...       NaN   \n",
      "1483  https://www.slideshare.net/slideshow/embed_cod...       NaN   \n",
      "1484  https://drive.google.com/file/d/1mz3I2yih8ErmO...       NaN   \n",
      "\n",
      "     Raised Funds                                              About  \\\n",
      "1480        $150K  WeTipp is the online platform that connects th...   \n",
      "1481  Undisclosed        They Store and Ship Your Products on Demand   \n",
      "1482          $4M  Engaging people working in distributed workplaces   \n",
      "1483        $110K  ZootRock generates automated curated content t...   \n",
      "1484           --  In 1999, Enron tried to launch an IP based net...   \n",
      "\n",
      "            Industry                                               Tags  \\\n",
      "1480            Apps                     Apps, IT, Information Services   \n",
      "1481        Consumer                               Consumer, E-commerce   \n",
      "1482              AI  AI, Freelance, Machine Learning, Payments, Rec...   \n",
      "1483    Social Media                                  B2B, Social Media   \n",
      "1484  Sustainability            Energy, Commodities, Software, Internet   \n",
      "\n",
      "     Business Model Customer Model                  Website   Legal Name  \n",
      "1480            App            B2B           www.wetipp.com       WeTipp  \n",
      "1481     E-commerce            B2C    sales.getwhiplash.com     Whiplash  \n",
      "1482           SaaS            B2B  www.workgenius.comen-us  Work Genius  \n",
      "1483           SaaS            B2B                   Closed     Zootrock  \n",
      "1484           SaaS            B2B                      NaN        Enron  \n",
      "\n",
      "[5 rows x 21 columns]\n"
     ]
    }
   ],
   "source": [
    "print(df.head())\n",
    "print(df.tail())\n"
   ]
  },
  {
   "cell_type": "code",
   "execution_count": 8,
   "id": "62321558",
   "metadata": {
    "execution": {
     "iopub.execute_input": "2024-06-19T02:26:56.781799Z",
     "iopub.status.busy": "2024-06-19T02:26:56.781432Z",
     "iopub.status.idle": "2024-06-19T02:26:56.790536Z",
     "shell.execute_reply": "2024-06-19T02:26:56.789332Z"
    },
    "papermill": {
     "duration": 0.017434,
     "end_time": "2024-06-19T02:26:56.793086",
     "exception": false,
     "start_time": "2024-06-19T02:26:56.775652",
     "status": "completed"
    },
    "tags": []
   },
   "outputs": [
    {
     "name": "stdout",
     "output_type": "stream",
     "text": [
      "Company Name              0\n",
      "Description              10\n",
      "Amount Raised (Main)     42\n",
      "Year (Main)              13\n",
      "Stage (Main)             34\n",
      "Business Type            38\n",
      "Image URL               178\n",
      "Detail URL                0\n",
      "Full Description        124\n",
      "Year                     17\n",
      "Stage                    33\n",
      "PDF URL                  10\n",
      "Investors               935\n",
      "Raised Funds             44\n",
      "About                    21\n",
      "Industry                  7\n",
      "Tags                      7\n",
      "Business Model          604\n",
      "Customer Model          617\n",
      "Website                  48\n",
      "Legal Name               19\n",
      "dtype: int64\n"
     ]
    }
   ],
   "source": [
    "print(df.isnull().sum())\n"
   ]
  },
  {
   "cell_type": "code",
   "execution_count": 9,
   "id": "35a823a2",
   "metadata": {
    "execution": {
     "iopub.execute_input": "2024-06-19T02:26:56.803634Z",
     "iopub.status.busy": "2024-06-19T02:26:56.803232Z",
     "iopub.status.idle": "2024-06-19T02:26:56.814445Z",
     "shell.execute_reply": "2024-06-19T02:26:56.813424Z"
    },
    "papermill": {
     "duration": 0.019317,
     "end_time": "2024-06-19T02:26:56.816802",
     "exception": false,
     "start_time": "2024-06-19T02:26:56.797485",
     "status": "completed"
    },
    "tags": []
   },
   "outputs": [
    {
     "name": "stdout",
     "output_type": "stream",
     "text": [
      "Index(['Company Name', 'Description', 'Amount Raised', 'Year', 'Stage',\n",
      "       'Business Model', 'Image URL', 'Full Description', 'Year', 'Stage',\n",
      "       'PDF URL', 'Investors', 'Raised Funds', 'About', 'Industry', 'Tags',\n",
      "       'Business Model', 'Customer Model', 'Website', 'Legal Name'],\n",
      "      dtype='object')\n"
     ]
    }
   ],
   "source": [
    "\n",
    "columns_to_drop = ['Detail URL']\n",
    "df = df.drop(columns=columns_to_drop)\n",
    "\n",
    "# Rename specified columns\n",
    "df = df.rename(columns={\n",
    "    'Amount Raised (Main)': 'Amount Raised',\n",
    "    'Year (Main)': 'Year',\n",
    "    'Stage (Main)': 'Stage',\n",
    "    'Business Type': 'Business Model'\n",
    "})\n",
    "\n",
    "# Verify the changes\n",
    "print(df.columns)"
   ]
  },
  {
   "cell_type": "code",
   "execution_count": 10,
   "id": "b6fd4ffd",
   "metadata": {
    "execution": {
     "iopub.execute_input": "2024-06-19T02:26:56.828469Z",
     "iopub.status.busy": "2024-06-19T02:26:56.828076Z",
     "iopub.status.idle": "2024-06-19T02:26:56.884459Z",
     "shell.execute_reply": "2024-06-19T02:26:56.883286Z"
    },
    "papermill": {
     "duration": 0.065128,
     "end_time": "2024-06-19T02:26:56.887520",
     "exception": false,
     "start_time": "2024-06-19T02:26:56.822392",
     "status": "completed"
    },
    "tags": []
   },
   "outputs": [
    {
     "name": "stdout",
     "output_type": "stream",
     "text": [
      "DataFrame successfully converted and saved\n"
     ]
    }
   ],
   "source": [
    "df['Type'] = 'ST'\n",
    "\n",
    "# Save DataFrame to CSV\n",
    "filename = 'pitch_decks.csv'\n",
    "df.to_csv(filename, index=False)\n",
    "print(f\"DataFrame successfully converted and saved\")"
   ]
  },
  {
   "cell_type": "code",
   "execution_count": null,
   "id": "6646dad3",
   "metadata": {
    "papermill": {
     "duration": 0.004302,
     "end_time": "2024-06-19T02:26:56.896558",
     "exception": false,
     "start_time": "2024-06-19T02:26:56.892256",
     "status": "completed"
    },
    "tags": []
   },
   "outputs": [],
   "source": []
  }
 ],
 "metadata": {
  "kaggle": {
   "accelerator": "none",
   "dataSources": [],
   "dockerImageVersionId": 30732,
   "isGpuEnabled": false,
   "isInternetEnabled": true,
   "language": "python",
   "sourceType": "notebook"
  },
  "kernelspec": {
   "display_name": "Python 3",
   "language": "python",
   "name": "python3"
  },
  "language_info": {
   "codemirror_mode": {
    "name": "ipython",
    "version": 3
   },
   "file_extension": ".py",
   "mimetype": "text/x-python",
   "name": "python",
   "nbconvert_exporter": "python",
   "pygments_lexer": "ipython3",
   "version": "3.10.13"
  },
  "papermill": {
   "default_parameters": {},
   "duration": 654.251988,
   "end_time": "2024-06-19T02:26:57.423560",
   "environment_variables": {},
   "exception": null,
   "input_path": "__notebook__.ipynb",
   "output_path": "__notebook__.ipynb",
   "parameters": {},
   "start_time": "2024-06-19T02:16:03.171572",
   "version": "2.5.0"
  }
 },
 "nbformat": 4,
 "nbformat_minor": 5
}
